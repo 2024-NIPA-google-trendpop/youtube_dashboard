{
 "cells": [
  {
   "cell_type": "code",
   "execution_count": 1,
   "metadata": {},
   "outputs": [],
   "source": [
    "import pandas as pd\n",
    "\n",
    "df = pd.read_csv('/Users/jaesolshin/Documents/GitHub/youtube_dashboard/petition.csv')"
   ]
  },
  {
   "cell_type": "code",
   "execution_count": 13,
   "metadata": {},
   "outputs": [],
   "source": [
    "from sklearn.feature_extraction.text import CountVectorizer\n",
    "from konlpy.tag import Okt\n",
    "okt = Okt()"
   ]
  },
  {
   "cell_type": "code",
   "execution_count": null,
   "metadata": {},
   "outputs": [],
   "source": [
    "def tokenizer(doc):\n",
    "    return [word for word in okt.nouns(doc) if len(doc) > 1]\n",
    "\n",
    "vec = CountVectorizer(tokenizer=tokenizer,\n",
    "                      max_df = 0.5, min_df= 5,\n",
    "                      max_features= 1000)\n",
    "\n",
    "pet_cv = vec.fit_transform(df.content)\n",
    "print(pet_cv)"
   ]
  },
  {
   "cell_type": "code",
   "execution_count": null,
   "metadata": {},
   "outputs": [],
   "source": [
    "from sklearn.decomposition import LatentDirichletAllocation\n",
    "\n",
    "lda = LatentDirichletAllocation(n_component = 15,\n",
    "                                n_jobs=-1,\n",
    "                                random_state=42)\n",
    "\n",
    "%time pet_topics = lda.fit_transform(pet_cv)\n",
    "\n",
    "def print_top_words(model, feature_names, n_top_words):\n",
    "    for topic_idx, topic in enumerate(model.components_):\n",
    "        print(\"Topic #%d: \" %topic_idx, end='')\n",
    "        print(\", \".join([feature_names[i]\n",
    "                         for i in topic.argsort()[:-n_top_waords - 1: -1]]))\n",
    "        \n",
    "print_top_words(lda, vec.get_feature_names_out(), 15)"
   ]
  },
  {
   "cell_type": "code",
   "execution_count": null,
   "metadata": {},
   "outputs": [],
   "source": [
    "from sklearn.feature_extraction.text import CountVectorizer\n",
    "from konlpy.tag import Okt\n",
    "trend_data = pd.DataFrame(pet_topics, columns=['Topic'+str(i) for i in range(1,16)])\n",
    "trend_data = pd.concat([trend_data, df.start_map(lambda x: x[:7], axis=1)])\n",
    "trend_data.iloc[:5, -5:]"
   ]
  },
  {
   "cell_type": "code",
   "execution_count": null,
   "metadata": {},
   "outputs": [],
   "source": [
    "trend = trend_data.groupby(['start']).mean()\n",
    "trend.iloc[:5,-5:]"
   ]
  },
  {
   "cell_type": "code",
   "execution_count": null,
   "metadata": {},
   "outputs": [],
   "source": [
    "import matplotlib\n",
    "import matplotlib.pyplot as plt\n",
    "%matplotlib inline\n",
    "\n",
    "fix, axes = plt.subplots(5, 3, sharex='col', figsize=(12,16))\n",
    "for col, ax in zip(trend.columns.tolist(), axes.ravel()):\n",
    "    ax.set_title(col)\n",
    "    ax.axes.xaxis.set_visible(False)\n",
    "    ax.plot(trend[col])\n",
    "plt.show()"
   ]
  }
 ],
 "metadata": {
  "kernelspec": {
   "display_name": "Python 3",
   "language": "python",
   "name": "python3"
  },
  "language_info": {
   "codemirror_mode": {
    "name": "ipython",
    "version": 3
   },
   "file_extension": ".py",
   "mimetype": "text/x-python",
   "name": "python",
   "nbconvert_exporter": "python",
   "pygments_lexer": "ipython3",
   "version": "3.12.4"
  }
 },
 "nbformat": 4,
 "nbformat_minor": 2
}
