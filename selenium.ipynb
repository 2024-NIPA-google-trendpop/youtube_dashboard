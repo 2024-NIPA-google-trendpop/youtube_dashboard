{
 "cells": [
  {
   "cell_type": "code",
   "execution_count": 11,
   "metadata": {},
   "outputs": [],
   "source": [
    "from webdriver_manager.chrome import ChromeDriverManager\n",
    "from selenium import webdriver\n",
    "from selenium.webdriver.chrome.service import Service\n",
    "from selenium.webdriver.chrome.options import Options\n",
    "from selenium.webdriver.common.by import By\n",
    "import pandas as pd\n",
    "import time\n",
    "\n",
    "\n",
    "# 다운로드 폴더 경로 설정\n",
    "download_dir = \"/Users/jaesolshin/Library/CloudStorage/GoogleDrive-ysys143@gmail.com/내 드라이브/2024-2/Google ML Bootcamp2024/data/bokbot/annual_report\"\n",
    "\n",
    "# Chrome 옵션 설정\n",
    "chrome_options = Options()\n",
    "#chrome_options.add_argument('--headless')  # 브라우저 창을 띄우지 않음\n",
    "chrome_options.add_experimental_option('prefs', {\n",
    "    \"download.default_directory\": download_dir,  # 다운로드 경로 설정\n",
    "})\n",
    "\n",
    "# 크롬 드라이버 서비스 설정 및 실행\n",
    "service = Service(ChromeDriverManager().install())\n",
    "driver = webdriver.Chrome(service=service, options = chrome_options)\n",
    "\n",
    "# URL 열기\n",
    "url = 'https://www.youtube.com/'\n",
    "driver.get(url)\n",
    "\n",
    "# 대기 설정\n",
    "driver.implicitly_wait(5)  # 최대 10초 대기\n",
    "driver.find_element(By.CSS_SELECTOR, 'input#search').send_keys('르세라핌')  # 원하는 키워드로 변경\n",
    "driver.implicitly_wait(1) \n",
    "driver.find_element(By.CSS_SELECTOR, 'button#search-icon-legacy').click()  # 검색 버튼 클릭\n",
    "\n",
    "# 작업 후 드라이버 종료\n",
    "#driver.quit()"
   ]
  },
  {
   "cell_type": "code",
   "execution_count": 9,
   "metadata": {},
   "outputs": [],
   "source": [
    "driver.quit()"
   ]
  },
  {
   "cell_type": "code",
   "execution_count": 18,
   "metadata": {},
   "outputs": [],
   "source": [
    "\n",
    "\n",
    "results = driver.find_elements(By.CSS_SELECTOR, '#video-title > yt-formatted-string')"
   ]
  },
  {
   "cell_type": "code",
   "execution_count": 20,
   "metadata": {},
   "outputs": [
    {
     "data": {
      "text/plain": [
       "<selenium.webdriver.remote.webelement.WebElement (session=\"d7c9cbe688351838b06efb93aab8a315\", element=\"f.0A6B538414AB7C337EAA504376DC1596.d.9045176C5F45A5E00D0EE03A157E15C0.e.1789\")>"
      ]
     },
     "execution_count": 20,
     "metadata": {},
     "output_type": "execute_result"
    }
   ],
   "source": [
    "results[0]"
   ]
  },
  {
   "cell_type": "code",
   "execution_count": null,
   "metadata": {},
   "outputs": [],
   "source": []
  }
 ],
 "metadata": {
  "kernelspec": {
   "display_name": "Python 3",
   "language": "python",
   "name": "python3"
  },
  "language_info": {
   "codemirror_mode": {
    "name": "ipython",
    "version": 3
   },
   "file_extension": ".py",
   "mimetype": "text/x-python",
   "name": "python",
   "nbconvert_exporter": "python",
   "pygments_lexer": "ipython3",
   "version": "3.12.4"
  }
 },
 "nbformat": 4,
 "nbformat_minor": 2
}
