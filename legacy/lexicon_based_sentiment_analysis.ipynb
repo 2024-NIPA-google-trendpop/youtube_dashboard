{
 "cells": [
  {
   "cell_type": "code",
   "execution_count": 99,
   "metadata": {},
   "outputs": [
    {
     "data": {
      "text/html": [
       "<div>\n",
       "<style scoped>\n",
       "    .dataframe tbody tr th:only-of-type {\n",
       "        vertical-align: middle;\n",
       "    }\n",
       "\n",
       "    .dataframe tbody tr th {\n",
       "        vertical-align: top;\n",
       "    }\n",
       "\n",
       "    .dataframe thead th {\n",
       "        text-align: right;\n",
       "    }\n",
       "</style>\n",
       "<table border=\"1\" class=\"dataframe\">\n",
       "  <thead>\n",
       "    <tr style=\"text-align: right;\">\n",
       "      <th></th>\n",
       "      <th>Group</th>\n",
       "      <th>Title</th>\n",
       "      <th>date</th>\n",
       "      <th>likes</th>\n",
       "      <th>comment</th>\n",
       "      <th>sentiment</th>\n",
       "    </tr>\n",
       "  </thead>\n",
       "  <tbody>\n",
       "    <tr>\n",
       "      <th>0</th>\n",
       "      <td>NMIXX</td>\n",
       "      <td>별별별 (See that)</td>\n",
       "      <td>2024-08-19T09:01:15Z</td>\n",
       "      <td>0.0</td>\n",
       "      <td>와씨 이번 컴백곡 미쳤다 (아직 안봄) 보고 왔는데 개지리누 춤연습 영상 빨리 빨리...</td>\n",
       "      <td>2</td>\n",
       "    </tr>\n",
       "    <tr>\n",
       "      <th>1</th>\n",
       "      <td>NMIXX</td>\n",
       "      <td>별별별 (See that)</td>\n",
       "      <td>2024-08-19T09:04:49Z</td>\n",
       "      <td>0.0</td>\n",
       "      <td>오늘만 기다렸다</td>\n",
       "      <td>2</td>\n",
       "    </tr>\n",
       "    <tr>\n",
       "      <th>2</th>\n",
       "      <td>NMIXX</td>\n",
       "      <td>Party O’Clock</td>\n",
       "      <td>2023-07-11T19:22:59Z</td>\n",
       "      <td>0.0</td>\n",
       "      <td>아니 노래들이 점점 그냥 대중적으로 가자 제발 음악성 어쩌고저쩌고 모르겠고 듣기 편...</td>\n",
       "      <td>1</td>\n",
       "    </tr>\n",
       "    <tr>\n",
       "      <th>3</th>\n",
       "      <td>NMIXX</td>\n",
       "      <td>Party O’Clock</td>\n",
       "      <td>2023-07-12T10:27:02Z</td>\n",
       "      <td>4.0</td>\n",
       "      <td>근데 뉴진스 원래 조회수는 잘 안나옴 데뷔곡부터도 조회수 밀리는데</td>\n",
       "      <td>1</td>\n",
       "    </tr>\n",
       "    <tr>\n",
       "      <th>4</th>\n",
       "      <td>NMIXX</td>\n",
       "      <td>蜚蜚 (FEIFEI)</td>\n",
       "      <td>2024-07-31T21:00:17Z</td>\n",
       "      <td>0.0</td>\n",
       "      <td>짜증나네.. 하필 ㅉㄲ 어로 노랠 부르다니..</td>\n",
       "      <td>0</td>\n",
       "    </tr>\n",
       "  </tbody>\n",
       "</table>\n",
       "</div>"
      ],
      "text/plain": [
       "   Group                 Title                  date  likes  \\\n",
       "0  NMIXX  별별별 (See that)  2024-08-19T09:01:15Z    0.0   \n",
       "1  NMIXX  별별별 (See that)  2024-08-19T09:04:49Z    0.0   \n",
       "2  NMIXX         Party O’Clock  2023-07-11T19:22:59Z    0.0   \n",
       "3  NMIXX         Party O’Clock  2023-07-12T10:27:02Z    4.0   \n",
       "4  NMIXX           蜚蜚 (FEIFEI)  2024-07-31T21:00:17Z    0.0   \n",
       "\n",
       "                                             comment sentiment  \n",
       "0  와씨 이번 컴백곡 미쳤다 (아직 안봄) 보고 왔는데 개지리누 춤연습 영상 빨리 빨리...         2  \n",
       "1                                           오늘만 기다렸다         2  \n",
       "2  아니 노래들이 점점 그냥 대중적으로 가자 제발 음악성 어쩌고저쩌고 모르겠고 듣기 편...         1  \n",
       "3               근데 뉴진스 원래 조회수는 잘 안나옴 데뷔곡부터도 조회수 밀리는데         1  \n",
       "4                          짜증나네.. 하필 ㅉㄲ 어로 노랠 부르다니..         0  "
      ]
     },
     "execution_count": 99,
     "metadata": {},
     "output_type": "execute_result"
    }
   ],
   "source": [
    "import pandas as pd\n",
    "import numpy as np\n",
    "\n",
    "df = pd.read_csv('sample_900.csv')\n",
    "df = df[df['sentiment'].isin(['0', '1', '2'])]\n",
    "df = df.drop(df.columns[[0, 3]], axis=1)\n",
    "df = df.dropna()\n",
    "df.head()"
   ]
  },
  {
   "cell_type": "code",
   "execution_count": 100,
   "metadata": {},
   "outputs": [],
   "source": [
    "import MeCab\n",
    "# MeCab 사전 경로 설정 (시스템에 맞게 경로 수정)\n",
    "mecab = MeCab.Tagger(\"-d /opt/homebrew/lib/mecab/dic/mecab-ko-dic\")\n",
    "\n",
    "stopwords = []\n",
    "\n",
    "def extract_nouns(string, stopwords):\n",
    "    parsed_string = mecab.parse(string)\n",
    "    lines = parsed_string.splitlines()\n",
    "\n",
    "    nouns = []\n",
    "\n",
    "    for line in lines:\n",
    "        parts = line.split('\\t')\n",
    "        if len(parts) > 1 and 'NNG' in parts[1] and parts[0] not in stopwords:  # NNG: 일반 명사\n",
    "            nouns.append(parts[0])\n",
    "\n",
    "    return nouns\n",
    "\n",
    "df['words'] = df['comment'].apply(lambda x: extract_nouns(x, stopwords)) "
   ]
  },
  {
   "cell_type": "code",
   "execution_count": 101,
   "metadata": {},
   "outputs": [],
   "source": [
    "# 한글 감성어 사전(KNU)\n",
    "import json\n",
    "import pandas as pd\n",
    "\n",
    "with open('SentiWord_info.json', encoding='utf-8-sig', mode='r') as f: \n",
    "  SentiWord_info = json.load(f)\n",
    "\n",
    "sentiword_dic = pd.DataFrame(SentiWord_info)"
   ]
  },
  {
   "cell_type": "code",
   "execution_count": 102,
   "metadata": {},
   "outputs": [
    {
     "data": {
      "text/plain": [
       "['이번', '컴백', '곡', '봄', '개지', '춤', '연습', '영상']"
      ]
     },
     "execution_count": 102,
     "metadata": {},
     "output_type": "execute_result"
    }
   ],
   "source": [
    "df['words'][0]"
   ]
  },
  {
   "cell_type": "code",
   "execution_count": 103,
   "metadata": {},
   "outputs": [],
   "source": [
    "def sentiment_by_lexicon(words):\n",
    "\n",
    "    sentiment = 0\n",
    "    for word in words:\n",
    "        for i in range(0, len(sentiword_dic)):\n",
    "            if sentiword_dic.word[i] in word:              \n",
    "                sentiment += int(sentiword_dic.polarity[i])\n",
    "\n",
    "    return sentiment\n",
    "\n",
    "\n",
    "# apply 메서드를 사용하여 sentiment_code 열 생성\n",
    "df['sentiment_score_l'] = df['words'].apply(sentiment_by_lexicon)\n",
    "\n",
    "# sentiment 점수를 클래스로 분류\n",
    "def code_sentiment(value):\n",
    "    if value > 0:\n",
    "          return '2'\n",
    "    elif value == 0:\n",
    "        return '1'\n",
    "    else:\n",
    "        return '0'\n",
    "\n",
    "# apply 메서드를 사용하여 sentiment_code 열 생성\n",
    "df['sentiment_l'] = df['sentiment_score_l'].apply(code_sentiment)\n"
   ]
  },
  {
   "cell_type": "code",
   "execution_count": 111,
   "metadata": {},
   "outputs": [
    {
     "name": "stdout",
     "output_type": "stream",
     "text": [
      "정확도: 0.27\n"
     ]
    },
    {
     "data": {
      "image/png": "[encoded data removed]",
      "text/plain": [
       "<Figure size 800x600 with 2 Axes>"
      ]
     },
     "metadata": {},
     "output_type": "display_data"
    }
   ],
   "source": [
    "import numpy as np\n",
    "import pandas as pd\n",
    "from matplotlib import pyplot as plt\n",
    "from matplotlib import font_manager as fm\n",
    "import seaborn as sns\n",
    "from sklearn.metrics import accuracy_score, confusion_matrix\n",
    "\n",
    "# 폰트 패밀리 이름을 정확히 지정\n",
    "plt.rc('font', family='Apple SD Gothic Neo')  # 폰트 패밀리 이름\n",
    "plt.rcParams['axes.unicode_minus'] = False  # 마이너스 기호 표시\n",
    "\n",
    "# 예시 데이터 생성\n",
    "y_true = df['sentiment']\n",
    "y_pred = df['sentiment_l']\n",
    "# 정확도 계산\n",
    "accuracy = accuracy_score(y_true, y_pred)\n",
    "print(f\"정확도: {accuracy:.2f}\")\n",
    "\n",
    "# 혼동 행렬 계산\n",
    "cm = confusion_matrix(y_true, y_pred)\n",
    "\n",
    "# 혼동 행렬 시각화\n",
    "plt.figure(figsize=(8, 6))\n",
    "sns.heatmap(cm, annot=True, fmt='d', cmap='Blues', xticklabels=['neg', 'neutral', 'pos'], yticklabels=['neg', 'neutral', 'pos'])\n",
    "plt.xlabel('predicted')\n",
    "plt.ylabel('true')\n",
    "plt.title('Confusion Matrix')\n",
    "plt.show()"
   ]
  }
 ],
 "metadata": {
  "kernelspec": {
   "display_name": "Python 3",
   "language": "python",
   "name": "python3"
  },
  "language_info": {
   "codemirror_mode": {
    "name": "ipython",
    "version": 3
   },
   "file_extension": ".py",
   "mimetype": "text/x-python",
   "name": "python",
   "nbconvert_exporter": "python",
   "pygments_lexer": "ipython3",
   "version": "3.12.4"
  }
 },
 "nbformat": 4,
 "nbformat_minor": 2
}
