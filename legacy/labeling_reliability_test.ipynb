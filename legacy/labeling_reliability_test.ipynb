{
 "cells": [
  {
   "cell_type": "code",
   "execution_count": 2,
   "metadata": {},
   "outputs": [],
   "source": [
    "import pandas as pd\n",
    "\n",
    "df = pd.read_csv('labeling_500_merged.csv')"
   ]
  },
  {
   "cell_type": "markdown",
   "metadata": {},
   "source": [
    "# Krippendorff's Alpha"
   ]
  },
  {
   "cell_type": "markdown",
   "metadata": {},
   "source": [
    "Krippendorff's Alpha는 여러 작업자가 동일한 데이터에 대해 얼마나 일관성 있게 레이블링했는지를 평가하는 지표로, 0에서 1 사이의 값을 가집니다. 값이 1에 가까울수록 작업자들 간에 높은 일치도가 있음을 의미하며, 0에 가까울수록 일치도가 낮다는 것을 의미합니다.\n",
    "\n",
    "0.81 ~ 1.00: 거의 완벽한 일치 (Almost perfect agreement)\n",
    "\n",
    "0.61 ~ 0.80: 상당한 일치 (Substantial agreement)\n",
    "\n",
    "0.41 ~ 0.60: 중간 수준의 일치 (Moderate agreement)\n",
    "\n",
    "0.21 ~ 0.40: 공정한 일치 (Fair agreement)\n",
    "\n",
    "0.00 ~ 0.20: 매우 낮은 일치 (Slight agreement)\n"
   ]
  },
  {
   "cell_type": "code",
   "execution_count": 13,
   "metadata": {},
   "outputs": [],
   "source": [
    "import pandas as pd\n",
    "import numpy as np\n",
    "from collections import defaultdict\n",
    "\n",
    "def krippendorffs_alpha(df):\n",
    "    data = df.to_numpy()  # DataFrame을 numpy 배열로 변환\n",
    "    num_items, num_raters = data.shape\n",
    "    \n",
    "    # 결측값을 -1로 처리함\n",
    "    data = np.where(pd.isnull(data), -1, data)\n",
    "    \n",
    "    # 관측된 불일치 정도 D_o 계산\n",
    "    def observed_disagreement(data):\n",
    "        total_disagreement = 0\n",
    "        for row in data:\n",
    "            value_counts = defaultdict(int)\n",
    "            for val in row:\n",
    "                if val != -1:  # 결측값 제외\n",
    "                    value_counts[val] += 1\n",
    "            for val, count in value_counts.items():\n",
    "                total_disagreement += count * (num_raters - count)\n",
    "        return total_disagreement / (num_raters * (num_raters - 1) * num_items)\n",
    "\n",
    "    # 기대 불일치 정도 D_e 계산\n",
    "    def expected_disagreement(data):\n",
    "        total_disagreement = 0\n",
    "        value_counts = defaultdict(int)\n",
    "        for row in data:\n",
    "            for val in row:\n",
    "                if val != -1:  # 결측값 제외\n",
    "                    value_counts[val] += 1\n",
    "        total_ratings = sum(value_counts.values())\n",
    "        for val, count in value_counts.items():\n",
    "            total_disagreement += count * (total_ratings - count)\n",
    "        return total_disagreement / (total_ratings * (total_ratings - 1))\n",
    "\n",
    "    D_o = observed_disagreement(data)\n",
    "    D_e = expected_disagreement(data)\n",
    "    \n",
    "    # 크리펜도르프의 알파 계산\n",
    "    alpha = 1 - (D_o / D_e) if D_e != 0 else 1\n",
    "    return alpha"
   ]
  },
  {
   "cell_type": "code",
   "execution_count": 41,
   "metadata": {},
   "outputs": [
    {
     "name": "stdout",
     "output_type": "stream",
     "text": [
      "이진분류 Krippendorff's Alpha: 0.7667751060820368\n",
      "삼진분류 Krippendorff's Alpha: 0.6600503731427344\n",
      "에크만분류 Krippendorff's Alpha: 0.5641765786485284\n"
     ]
    }
   ],
   "source": [
    "binary_df = df[['binary_js', 'binary_ej', 'binary_km']]\n",
    "ternary_df = df[['ternary_js', 'ternary_ej', 'ternary_km']]\n",
    "seven_df = df[['seven_js', 'seven_ej', 'seven_km']]\n",
    "\n",
    "print(f\"이진분류 Krippendorff's Alpha: {krippendorffs_alpha(binary_df)}\")\n",
    "print(f\"삼진분류 Krippendorff's Alpha: {krippendorffs_alpha(ternary_df)}\")\n",
    "print(f\"에크만분류 Krippendorff's Alpha: {krippendorffs_alpha(seven_df)}\")\n"
   ]
  },
  {
   "cell_type": "code",
   "execution_count": 45,
   "metadata": {},
   "outputs": [
    {
     "name": "stdout",
     "output_type": "stream",
     "text": [
      "삼진분류 Krippendorff's Alpha: 0.652923743976542\n"
     ]
    }
   ],
   "source": [
    "ternary_df = df[['ternary_js', 'ternary_ej']]\n",
    "print(f\"삼진분류 Krippendorff's Alpha: {krippendorffs_alpha(ternary_df)}\")"
   ]
  },
  {
   "cell_type": "code",
   "execution_count": 46,
   "metadata": {},
   "outputs": [
    {
     "name": "stdout",
     "output_type": "stream",
     "text": [
      "삼진분류 Krippendorff's Alpha: 0.746399053154558\n"
     ]
    }
   ],
   "source": [
    "ternary_df = df[['ternary_ej', 'ternary_km']]\n",
    "print(f\"삼진분류 Krippendorff's Alpha: {krippendorffs_alpha(ternary_df)}\")"
   ]
  },
  {
   "cell_type": "code",
   "execution_count": 47,
   "metadata": {},
   "outputs": [
    {
     "name": "stdout",
     "output_type": "stream",
     "text": [
      "삼진분류 Krippendorff's Alpha: 0.5758422863586803\n"
     ]
    }
   ],
   "source": [
    "ternary_df = df[['ternary_km', 'ternary_js']]\n",
    "print(f\"삼진분류 Krippendorff's Alpha: {krippendorffs_alpha(ternary_df)}\")"
   ]
  },
  {
   "cell_type": "markdown",
   "metadata": {},
   "source": [
    "Krippendorff's Alpha Test\n",
    "\n",
    "이진분류 : 0.766 -> 상당한 일치\n",
    "\n",
    "삼진분류 : 0.660 -> 상당한 일치\n",
    "\n",
    "에크만분류 : 0.564"
   ]
  },
  {
   "cell_type": "markdown",
   "metadata": {},
   "source": [
    "# Fleiss' Kappa"
   ]
  },
  {
   "cell_type": "code",
   "execution_count": 15,
   "metadata": {},
   "outputs": [],
   "source": [
    "import pandas as pd\n",
    "import numpy as np\n",
    "\n",
    "def fleiss_kappa(df):\n",
    "\n",
    "\n",
    "    # 레이블을 범주형 데이터로 변환\n",
    "    categories = df.apply(pd.Series.value_counts, axis=1).fillna(0)\n",
    "    num_items, num_raters = df.shape\n",
    "    num_categories = categories.shape[1]\n",
    "\n",
    "    # 각 항목에 대해 일치율 계산 (P_i)\n",
    "    def observed_agreement(categories):\n",
    "        P_i = []\n",
    "        for index, row in categories.iterrows():\n",
    "            n = row.sum()  # 총 평가자 수\n",
    "            P_i_value = (row ** 2).sum() - n\n",
    "            P_i.append(P_i_value / (n * (n - 1)))\n",
    "        return np.array(P_i)\n",
    "\n",
    "    # 범주별로 레이블링된 비율 (p_j)\n",
    "    def expected_agreement(categories):\n",
    "        p_j = categories.sum(axis=0) / (num_items * num_raters)\n",
    "        return p_j\n",
    "\n",
    "    # Fleiss' Kappa 계산\n",
    "    P_i = observed_agreement(categories)\n",
    "    P_bar = P_i.mean()\n",
    "    p_j = expected_agreement(categories)\n",
    "    P_e_bar = (p_j ** 2).sum()\n",
    "    \n",
    "    kappa = (P_bar - P_e_bar) / (1 - P_e_bar) if 1 - P_e_bar != 0 else 1\n",
    "    return kappa"
   ]
  },
  {
   "cell_type": "code",
   "execution_count": 35,
   "metadata": {},
   "outputs": [
    {
     "name": "stdout",
     "output_type": "stream",
     "text": [
      "이진분류 Fleiss' Kappa: 0.7666195190947663\n",
      "삼진분류 Fleiss' Kappa: 0.6598235888686469\n",
      "에크만분류 Fleiss' Kappa: 0.5638858358724436\n"
     ]
    }
   ],
   "source": [
    "print(f\"이진분류 Fleiss' Kappa: {fleiss_kappa(binary_df)}\")\n",
    "print(f\"삼진분류 Fleiss' Kappa: {fleiss_kappa(ternary_df)}\")\n",
    "print(f\"에크만분류 Fleiss' Kappa: {fleiss_kappa(seven_df)}\")\n"
   ]
  },
  {
   "cell_type": "markdown",
   "metadata": {},
   "source": [
    "# LLM"
   ]
  },
  {
   "cell_type": "code",
   "execution_count": 4,
   "metadata": {},
   "outputs": [],
   "source": [
    "#Use 3.12.4\n",
    "import openai\n",
    "import os\n",
    "from langchain.chat_models import ChatOpenAI\n",
    "from langchain.schema import HumanMessage, AIMessage, SystemMessage\n",
    "from langchain.document_loaders import DirectoryLoader, TextLoader\n",
    "from langchain.docstore.document import Document\n",
    "\n",
    "key_path = '/Users/jaesolshin/key/openai_key.txt'\n",
    "os.environ[\"OPENAI_API_KEY\"] = open(key_path, 'r', encoding='utf-8').read()\n",
    "openai.api_key = os.environ[\"OPENAI_API_KEY\"] "
   ]
  },
  {
   "cell_type": "code",
   "execution_count": 5,
   "metadata": {},
   "outputs": [
    {
     "name": "stdout",
     "output_type": "stream",
     "text": [
      "댓글: 이번 신곡 너무 좋아\n",
      "감정: 2\n",
      "\n",
      "댓글: 국힙원탑 희진누님의 위대한 작품\n",
      "감정: 2\n",
      "\n",
      "댓글: 팜하니 너무 귀여워서ㅠㅠㅠ‍️🫶\n",
      "감정: 2\n",
      "\n"
     ]
    }
   ],
   "source": [
    "import openai\n",
    "import re\n",
    "import time\n",
    "\n",
    "# Sample 텍스트(50~52번 댓글)\n",
    "comments = df['comment'][50:53]  # 슬라이싱 처리\n",
    "\n",
    "# 감정 분석 함수 정의\n",
    "def sentiment_by_gpt(comment):\n",
    "    # OpenAI API를 사용하여 채팅 형식으로 요청\n",
    "    response = openai.ChatCompletion.create(\n",
    "        model=\"gpt-4\",  # 사용할 모델\n",
    "        messages=[\n",
    "            {\"role\": \"system\", \"content\": \"You are an expert sentiment analyst.\"},\n",
    "            {\"role\": \"user\", \"content\": f\"\"\"문장의 감정을 \"2\" (긍정), \"1\" (중립), \"0\" (부정) 중 하나로 평가해 주세요. 숫자로만 응답하세요. 문장: \"{comment}\"\\n감정:\"\"\"}\n",
    "        ]\n",
    "    )\n",
    "    # 응답에서 메시지 내용 추출\n",
    "    response_text = response['choices'][0]['message']['content'].strip()\n",
    "    \n",
    "    # 숫자만 추출\n",
    "    score = re.search(r'\\d', response_text)\n",
    "    return score.group() if score else \"N/A\"\n",
    "\n",
    "# 감정 분석 수행 및 결과 출력\n",
    "for comment in comments:\n",
    "    sentiment = sentiment_by_gpt(comment)\n",
    "    print(f\"댓글: {comment}\\n감정: {sentiment}\\n\")\n",
    "    time.sleep(0.06)  # API 속도 조절을 위한 지연 시간 설정"
   ]
  },
  {
   "cell_type": "code",
   "execution_count": 6,
   "metadata": {},
   "outputs": [
    {
     "name": "stderr",
     "output_type": "stream",
     "text": [
      "100%|██████████| 500/500 [05:20<00:00,  1.56it/s]\n"
     ]
    }
   ],
   "source": [
    "from tqdm import tqdm\n",
    "tqdm.pandas()\n",
    "\n",
    "df['sentiment_by_gpt'] = df['comment'].progress_apply(sentiment_by_gpt)"
   ]
  },
  {
   "cell_type": "code",
   "execution_count": 7,
   "metadata": {},
   "outputs": [
    {
     "name": "stdout",
     "output_type": "stream",
     "text": [
      "댓글: 이번 신곡 너무 좋아\n",
      "감정: 2\n",
      "\n",
      "댓글: 국힙원탑 희진누님의 위대한 작품\n",
      "감정: 2\n",
      "\n",
      "댓글: 팜하니 너무 귀여워서ㅠㅠㅠ‍️🫶\n",
      "감정: 2\n",
      "\n"
     ]
    }
   ],
   "source": [
    "import google.generativeai as genai\n",
    "import os\n",
    "\n",
    "key_path = '/Users/jaesolshin/key/gemini_key.txt'\n",
    "apikey = open(key_path, 'r', encoding='utf-8').read()\n",
    "genai.configure(api_key=apikey)\n",
    "\n",
    "system_instruction = \"문장의 감정을 '2' (긍정), '1' (중립), '0' (부정) 중 하나로 평가해 주세요. {<텍스트 형식의 숫자>}\"\n",
    "model = genai.GenerativeModel(\"gemini-1.5-flash\", system_instruction=system_instruction) # 모델 정의할 때 system_instruction 부여\n",
    "\n",
    "# Sample 텍스트(50~52번 댓글)\n",
    "comments = df['comment'][50:53]  # 슬라이싱 처리\n",
    "\n",
    "def sentiment_by_gemini(comment):\n",
    "    response = model.generate_content(comment)\n",
    "\n",
    "    #print(response)  # 또는 response의 타입과 내용을 명확히 보기 위한 출력\n",
    "    if not response.candidates:\n",
    "        return \"N/A\"\n",
    "    \n",
    "    if not response.candidates[0].content.parts:\n",
    "        return \"N/A\"\n",
    "    \n",
    "    response_text = response.candidates[0].content.parts[0].text.strip()\n",
    "    \n",
    "    score = re.search(r'\\d', response_text)\n",
    "    return score.group() if score else \"N/A\"\n",
    "\n",
    "# 감정 분석 수행 및 결과 출력\n",
    "for comment in comments:\n",
    "    sentiment = sentiment_by_gemini(comment)\n",
    "    print(f\"댓글: {comment}\\n감정: {sentiment}\\n\")"
   ]
  },
  {
   "cell_type": "code",
   "execution_count": 8,
   "metadata": {},
   "outputs": [
    {
     "name": "stderr",
     "output_type": "stream",
     "text": [
      "100%|██████████| 500/500 [03:24<00:00,  2.44it/s]\n"
     ]
    }
   ],
   "source": [
    "df['sentiment_by_gemini'] = df['comment'].progress_apply(sentiment_by_gemini)"
   ]
  },
  {
   "cell_type": "code",
   "execution_count": 29,
   "metadata": {},
   "outputs": [
    {
     "data": {
      "text/plain": [
       "ternary_js               int64\n",
       "sentiment_by_gpt         int64\n",
       "sentiment_by_gemini    float64\n",
       "dtype: object"
      ]
     },
     "execution_count": 29,
     "metadata": {},
     "output_type": "execute_result"
    }
   ],
   "source": [
    "ternary_df_llm.dtypes"
   ]
  },
  {
   "cell_type": "code",
   "execution_count": 60,
   "metadata": {},
   "outputs": [
    {
     "name": "stdout",
     "output_type": "stream",
     "text": [
      "삼진분류 Krippendorff's Alpha: 0.6429655858768734\n"
     ]
    }
   ],
   "source": [
    "ternary_df_llm = df[['ternary_km', 'sentiment_by_gpt', 'sentiment_by_gemini']]\n",
    "ternary_df_llm = ternary_df_llm[ternary_df_llm['sentiment_by_gemini']!='N/A']\n",
    "ternary_df_llm.dropna()\n",
    "\n",
    "ternary_df_llm['sentiment_by_gpt'] = pd.to_numeric(ternary_df_llm['sentiment_by_gpt'], errors='coerce').astype(int)\n",
    "ternary_df_llm['sentiment_by_gemini'] = pd.to_numeric(ternary_df_llm['sentiment_by_gemini'], errors='coerce').astype(int)\n",
    "\n",
    "print(f\"삼진분류 Krippendorff's Alpha: {krippendorffs_alpha(ternary_df_llm)}\")\n",
    "#print(f\"삼진분류 Fleiss' Kappa: {fleiss_kappa(ternary_df_llm)}\")"
   ]
  },
  {
   "cell_type": "code",
   "execution_count": 48,
   "metadata": {},
   "outputs": [
    {
     "name": "stdout",
     "output_type": "stream",
     "text": [
      "삼진분류 Krippendorff's Alpha: 0.6691845739396597\n"
     ]
    }
   ],
   "source": [
    "ternary_df_llm = df[['sentiment_by_gpt', 'sentiment_by_gemini']]\n",
    "print(f\"삼진분류 Krippendorff's Alpha: {krippendorffs_alpha(ternary_df_llm)}\")"
   ]
  }
 ],
 "metadata": {
  "kernelspec": {
   "display_name": "Python 3",
   "language": "python",
   "name": "python3"
  },
  "language_info": {
   "codemirror_mode": {
    "name": "ipython",
    "version": 3
   },
   "file_extension": ".py",
   "mimetype": "text/x-python",
   "name": "python",
   "nbconvert_exporter": "python",
   "pygments_lexer": "ipython3",
   "version": "3.12.4"
  }
 },
 "nbformat": 4,
 "nbformat_minor": 2
}
